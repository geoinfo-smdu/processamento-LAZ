{
 "cells": [
  {
   "cell_type": "code",
   "execution_count": 12,
   "metadata": {},
   "outputs": [],
   "source": [
    "import pandas as pd"
   ]
  },
  {
   "cell_type": "code",
   "execution_count": 135,
   "metadata": {},
   "outputs": [
    {
     "data": {
      "text/html": [
       "<div>\n",
       "<style scoped>\n",
       "    .dataframe tbody tr th:only-of-type {\n",
       "        vertical-align: middle;\n",
       "    }\n",
       "\n",
       "    .dataframe tbody tr th {\n",
       "        vertical-align: top;\n",
       "    }\n",
       "\n",
       "    .dataframe thead th {\n",
       "        text-align: right;\n",
       "    }\n",
       "</style>\n",
       "<table border=\"1\" class=\"dataframe\">\n",
       "  <thead>\n",
       "    <tr style=\"text-align: right;\">\n",
       "      <th></th>\n",
       "      <th>presenca</th>\n",
       "    </tr>\n",
       "    <tr>\n",
       "      <th>SCM</th>\n",
       "      <th></th>\n",
       "    </tr>\n",
       "  </thead>\n",
       "  <tbody>\n",
       "    <tr>\n",
       "      <td>2242-212</td>\n",
       "      <td>True</td>\n",
       "    </tr>\n",
       "    <tr>\n",
       "      <td>2242-221</td>\n",
       "      <td>True</td>\n",
       "    </tr>\n",
       "    <tr>\n",
       "      <td>2242-234</td>\n",
       "      <td>True</td>\n",
       "    </tr>\n",
       "    <tr>\n",
       "      <td>2242-211</td>\n",
       "      <td>True</td>\n",
       "    </tr>\n",
       "    <tr>\n",
       "      <td>3215-331</td>\n",
       "      <td>True</td>\n",
       "    </tr>\n",
       "    <tr>\n",
       "      <td>...</td>\n",
       "      <td>...</td>\n",
       "    </tr>\n",
       "    <tr>\n",
       "      <td>3241-322</td>\n",
       "      <td>True</td>\n",
       "    </tr>\n",
       "    <tr>\n",
       "      <td>3241-354</td>\n",
       "      <td>True</td>\n",
       "    </tr>\n",
       "    <tr>\n",
       "      <td>3241-361</td>\n",
       "      <td>True</td>\n",
       "    </tr>\n",
       "    <tr>\n",
       "      <td>3241-324</td>\n",
       "      <td>True</td>\n",
       "    </tr>\n",
       "    <tr>\n",
       "      <td>3234-224</td>\n",
       "      <td>True</td>\n",
       "    </tr>\n",
       "  </tbody>\n",
       "</table>\n",
       "<p>5730 rows × 1 columns</p>\n",
       "</div>"
      ],
      "text/plain": [
       "          presenca\n",
       "SCM               \n",
       "2242-212      True\n",
       "2242-221      True\n",
       "2242-234      True\n",
       "2242-211      True\n",
       "3215-331      True\n",
       "...            ...\n",
       "3241-322      True\n",
       "3241-354      True\n",
       "3241-361      True\n",
       "3241-324      True\n",
       "3234-224      True\n",
       "\n",
       "[5730 rows x 1 columns]"
      ]
     },
     "execution_count": 135,
     "metadata": {},
     "output_type": "execute_result"
    }
   ],
   "source": [
    "scms = pd.read_csv(\"./arquivos/SCMs.csv\", index_col=0)\n",
    "scms['presenca'] = True\n",
    "scms"
   ]
  },
  {
   "cell_type": "code",
   "execution_count": 157,
   "metadata": {},
   "outputs": [],
   "source": [
    "mdss = pd.read_csv(\"./arquivos/MDSs.csv\", encoding = \"utf-16\")\n",
    "#mdss = mdss.drop(columns=['FullPath'])\n",
    "mdss = mdss.sort_values(by=['SCM', 'Version'])\n",
    "#mdss"
   ]
  },
  {
   "cell_type": "code",
   "execution_count": 156,
   "metadata": {},
   "outputs": [],
   "source": [
    "# localizando os duplicados\n",
    "mdss_duplicados = mdss[mdss.duplicated(['SCM'], keep=False)]\n",
    "mdss_duplicados = mdss_duplicados[mdss_duplicados.duplicated(['SCM'], keep='last')]\n",
    "\n",
    "#removendo os duplicados\n",
    "mdss = mdss.drop(mdss_duplicados.index)\n",
    "\n",
    "# Salvando para CSV\n",
    "mdss.to_csv(path_or_buf='./arquivos/MDSs_unicos.csv')\n",
    "#mdss"
   ]
  },
  {
   "cell_type": "code",
   "execution_count": 155,
   "metadata": {},
   "outputs": [],
   "source": [
    "mdts = pd.read_csv(\"./arquivos/MDTs.csv\", encoding = \"utf-16\")\n",
    "#mdts = mdts.drop(columns=['FullPath'])\n",
    "#mdts"
   ]
  },
  {
   "cell_type": "code",
   "execution_count": 154,
   "metadata": {},
   "outputs": [],
   "source": [
    "# Identificando os duplicados\n",
    "mdts_duplicados = mdts[mdts.duplicated(['SCM'], keep=False)]\n",
    "mdts_duplicados = mdts_duplicados[mdts_duplicados.duplicated(['SCM'], keep='last')]\n",
    "\n",
    "# REmovendo linhas duplicadas\n",
    "mdts = mdts.drop(mdts_duplicados.index)\n",
    "\n",
    "# Salvando CSV\n",
    "mdts.to_csv(path_or_buf='./arquivos/MDTs_unicos.csv')\n",
    "#mdts"
   ]
  },
  {
   "cell_type": "markdown",
   "metadata": {},
   "source": [
    "## Identificando os SCMs que não tem MDS "
   ]
  },
  {
   "cell_type": "code",
   "execution_count": 140,
   "metadata": {
    "scrolled": true
   },
   "outputs": [
    {
     "data": {
      "text/plain": [
       "265     3225-333\n",
       "273     3225-331\n",
       "275     3225-321\n",
       "276     3225-334\n",
       "278     3225-324\n",
       "          ...   \n",
       "5721    3241-332\n",
       "5722    3241-364\n",
       "5724    3241-334\n",
       "5725    3241-322\n",
       "5727    3241-361\n",
       "Name: SCM, Length: 199, dtype: object"
      ]
     },
     "metadata": {},
     "output_type": "display_data"
    },
    {
     "name": "stderr",
     "output_type": "stream",
     "text": [
      "C:\\Users\\D877341\\AppData\\Local\\Continuum\\miniconda3\\lib\\site-packages\\ipykernel_launcher.py:5: FutureWarning: The signature of `Series.to_csv` was aligned to that of `DataFrame.to_csv`, and argument 'header' will change its default value from False to True: please pass an explicit value to suppress this warning.\n",
      "  \"\"\"\n"
     ]
    }
   ],
   "source": [
    "scms_mdss = pd.merge(left=scms,right=mdss, how='left', left_on='SCM', right_on='SCM')\n",
    "scms_sem_mds = scms_mdss[scms_mdss.Name.isnull()]\n",
    "pd.set_option('display.max_rows', 20)\n",
    "display(scms_sem_mds.SCM)\n",
    "scms_sem_mds.SCM.to_csv(path_or_buf='./arquivos/SCMs_sem_MDS.csv')\n"
   ]
  },
  {
   "cell_type": "markdown",
   "metadata": {},
   "source": [
    "## Identificando os MDSs que não tem MDT"
   ]
  },
  {
   "cell_type": "code",
   "execution_count": 152,
   "metadata": {},
   "outputs": [
    {
     "name": "stderr",
     "output_type": "stream",
     "text": [
      "C:\\Users\\D877341\\AppData\\Local\\Continuum\\miniconda3\\lib\\site-packages\\ipykernel_launcher.py:5: FutureWarning: The signature of `Series.to_csv` was aligned to that of `DataFrame.to_csv`, and argument 'header' will change its default value from False to True: please pass an explicit value to suppress this warning.\n",
      "  \"\"\"\n"
     ]
    }
   ],
   "source": [
    "mdss_mdt = pd.merge(left=mdss,right=mdts, how='left', left_on='SCM', right_on='SCM')\n",
    "mdss_sem_mdt = mdss_mdt[mdss_mdt.Name_y.isnull()]\n",
    "pd.set_option('display.max_rows', 200)\n",
    "#display(mdss_sem_mdt.Name_x)\n",
    "mdss_sem_mdt.Name_x.to_csv(path_or_buf='./arquivos/MDSs_sem_MDT.csv')"
   ]
  },
  {
   "cell_type": "code",
   "execution_count": 153,
   "metadata": {},
   "outputs": [],
   "source": [
    "#mdss"
   ]
  },
  {
   "cell_type": "code",
   "execution_count": 151,
   "metadata": {},
   "outputs": [],
   "source": [
    "mdts_para_processamento = pd.merge(left=mdts,right=mdss, how='left', left_on='SCM', right_on='SCM')\n",
    "mdts_para_processamento.rename(columns={'FullPath_x': 'MDT_Path', 'Name_x': 'MDT_Name', 'Version_x':'MDT_Version', 'FullPath_y': 'MDS_Path', 'Name_y': 'MDS_Name', 'Version_y':'MDS_Version'})\n",
    "mdts_para_processamento.set_index('SCM').to_csv(path_or_buf='./arquivos/arquivos_para_processar.csv')"
   ]
  }
 ],
 "metadata": {
  "file_extension": ".py",
  "kernelspec": {
   "display_name": "Python 3",
   "language": "python",
   "name": "python3"
  },
  "language_info": {
   "codemirror_mode": {
    "name": "ipython",
    "version": 3
   },
   "file_extension": ".py",
   "mimetype": "text/x-python",
   "name": "python",
   "nbconvert_exporter": "python",
   "pygments_lexer": "ipython3",
   "version": "3.7.3"
  },
  "mimetype": "text/x-python",
  "name": "python",
  "npconvert_exporter": "python",
  "pygments_lexer": "ipython3",
  "version": 3
 },
 "nbformat": 4,
 "nbformat_minor": 2
}
